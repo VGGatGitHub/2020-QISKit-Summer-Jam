{
  "nbformat": 4,
  "nbformat_minor": 0,
  "metadata": {
    "anaconda-cloud": {},
    "colab": {
      "name": "max_cut_only-15q-background-results.ipynb",
      "provenance": [],
      "collapsed_sections": [
        "86H1ekQ9gI_8",
        "kxbANBKN4-I5",
        "4GqrhgSDgJAF",
        "P-nfLK1ijEBX",
        "3TPpoF6EgJAs",
        "UQSv6WsUgJA7",
        "Di-nT72LgJBH",
        "Nk1VcD6VgJBL",
        "tPHlb2KpgJBV",
        "S-lmsvcagJBh",
        "AuUrMw1HgJBr",
        "B-s4-BJTkauc"
      ],
      "include_colab_link": true
    },
    "kernelspec": {
      "display_name": "Python 3",
      "language": "python",
      "name": "python3"
    },
    "language_info": {
      "codemirror_mode": {
        "name": "ipython",
        "version": 3
      },
      "file_extension": ".py",
      "mimetype": "text/x-python",
      "name": "python",
      "nbconvert_exporter": "python",
      "pygments_lexer": "ipython3",
      "version": "3.7.6"
    },
    "papermill": {
      "duration": 14348.105008,
      "end_time": "2020-03-12T07:55:21.779384",
      "environment_variables": {},
      "exception": null,
      "input_path": "max_cut_only_15q.ipynb",
      "output_path": "max_cut_only_15q-background-results.ipynb",
      "parameters": {},
      "start_time": "2020-03-12T03:56:13.674376",
      "version": "2.0.0"
    },
    "varInspector": {
      "cols": {
        "lenName": 16,
        "lenType": 16,
        "lenVar": 40
      },
      "kernels_config": {
        "python": {
          "delete_cmd_postfix": "",
          "delete_cmd_prefix": "del ",
          "library": "var_list.py",
          "varRefreshCmd": "print(var_dic_list())"
        },
        "r": {
          "delete_cmd_postfix": ") ",
          "delete_cmd_prefix": "rm(",
          "library": "var_list.r",
          "varRefreshCmd": "cat(var_dic_list()) "
        }
      },
      "types_to_exclude": [
        "module",
        "function",
        "builtin_function_or_method",
        "instance",
        "_Feature"
      ],
      "window_display": false
    }
  },
  "cells": [
    {
      "cell_type": "markdown",
      "metadata": {
        "id": "view-in-github",
        "colab_type": "text"
      },
      "source": [
        "<a href=\"https://colab.research.google.com/github/VGGatGitHub/QC-Benchmarking/blob/master/max_cut_only_15q_background_results_v1.ipynb\" target=\"_parent\"><img src=\"https://colab.research.google.com/assets/colab-badge.svg\" alt=\"Open In Colab\"/></a>"
      ]
    },
    {
      "cell_type": "markdown",
      "metadata": {
        "colab_type": "text",
        "id": "lqYBG_sKgI_3",
        "papermill": {
          "duration": 0.073539,
          "end_time": "2020-03-12T03:56:15.107143",
          "exception": false,
          "start_time": "2020-03-12T03:56:15.033604",
          "status": "completed"
        },
        "tags": []
      },
      "source": [
        "Modifications and changes to the original IBM QISKit file are indicated with #VGG whenever approprate\n",
        "\n",
        "The code is best run as a notebook in the IBM Quantum Experince"
      ]
    },
    {
      "cell_type": "markdown",
      "metadata": {
        "colab_type": "text",
        "id": "86H1ekQ9gI_8",
        "papermill": {
          "duration": 0.078475,
          "end_time": "2020-03-12T03:56:15.261220",
          "exception": false,
          "start_time": "2020-03-12T03:56:15.182745",
          "status": "completed"
        },
        "tags": []
      },
      "source": [
        "# Qiskit Aqua: Experimenting with Max-Cut problem with VQE"
      ]
    },
    {
      "cell_type": "markdown",
      "metadata": {
        "colab_type": "text",
        "id": "RXyzDywZgI_-",
        "papermill": {
          "duration": 0.16019,
          "end_time": "2020-03-12T03:56:15.599980",
          "exception": false,
          "start_time": "2020-03-12T03:56:15.439790",
          "status": "completed"
        },
        "tags": []
      },
      "source": [
        "## Introduction and background informatoin\n",
        "\n",
        "Many problems in quantitative **fields** such as finance and engineering are optimization problems. Optimization problems lie at the core of complex decision-making and definition of strategies. \n",
        "\n",
        "Optimization (or combinatorial optimization) means searching for an optimal solution in a finite or countably infinite set of potential solutions. Optimality is defined with respect to some criterion function, which is to be minimized or maximized. This is typically called cost function or objective function. \n",
        "\n",
        "**Typical optimization problems**\n",
        "\n",
        "Minimization: cost, distance, length of a traversal, weight, processing time, material, energy consumption, number of objects\n",
        "\n",
        "Maximization: profit, value, output, return, yield, utility, efficiency, capacity, number of objects \n",
        "\n",
        "We consider here max-cut problems of practical interest in many fields, and show how they can be nmapped on quantum computers.\n",
        "\n",
        "\n",
        "### Weighted Max-Cut\n",
        "\n",
        "Max-Cut is an NP-complete problem, with applications in clustering, network science, and statistical physics. To grasp how practical applications are mapped into given Max-Cut instances, consider a system of many people that can interact and influence each other. Individuals can be represented by vertices of a graph, and their interactions seen as pairwise connections between vertices of the graph, or edges. With this representation in mind, it is easy to model typical marketing problems. For example, suppose that it is assumed that individuals will influence each other's buying decisions, and knowledge is given about how strong they will influence each other. The influence can be modeled by weights assigned on each edge of the graph. It is possible then to predict the outcome of a marketing strategy in which products are offered for free to some individuals, and then ask which is the optimal subset of individuals that should get the free products, in order to maximize revenues.\n",
        "\n",
        "The formal definition of this problem is the following:\n",
        "\n",
        "Consider an $n$-node undirected graph *G = (V, E)* where *|V| = n* with edge weights $w_{ij}>0$, $w_{ij}=w_{ji}$, for $(i, j)\\in E$. A cut is defined as a partition of the original set V into two subsets. The cost function to be optimized is in this case the sum of weights of edges connecting points in the two different subsets, *crossing* the cut. By assigning $x_i=0$ or $x_i=1$ to each node $i$, one tries to maximize the global profit function (here and in the following summations run over indices 0,1,...n-1)\n",
        "\n",
        "$$\\tilde{C}(\\textbf{x}) = \\sum_{i,j} w_{ij} x_i (1-x_j).$$\n",
        "\n",
        "In our simple marketing model, $w_{ij}$ represents the probability that the person $j$ will buy a product after $i$ gets a free one. Note that the weights $w_{ij}$ can in principle be greater than $1$, corresponding to the case where the individual $j$ will buy more than one product. Maximizing the total buying probability corresponds to maximizing the total future revenues. In the case where the profit probability will be greater than the cost of the initial free samples, the strategy is a convenient one. An extension to this model has the nodes themselves carry weights, which can be regarded, in our marketing model, as the likelihood that a person granted with a free sample of the product will buy it again in the future. With this additional information in our model, the objective function to maximize becomes \n",
        "\n",
        "$$C(\\textbf{x}) = \\sum_{i,j} w_{ij} x_i (1-x_j)+\\sum_i w_i x_i. $$\n",
        " \n",
        "In order to find a solution to this problem on a quantum computer, one needs first to map it to an Ising Hamiltonian. This can be done with the assignment $x_i\\rightarrow (1-Z_i)/2$, where $Z_i$ is the Pauli Z operator that has eigenvalues $\\pm 1$. Doing this we find that \n",
        "\n",
        "$$C(\\textbf{Z}) = \\sum_{i,j} \\frac{w_{ij}}{4} (1-Z_i)(1+Z_j) + \\sum_i \\frac{w_i}{2} (1-Z_i) = -\\frac{1}{2}\\left( \\sum_{i<j} w_{ij} Z_i Z_j +\\sum_i w_i Z_i\\right)+\\mathrm{const},$$\n",
        "\n",
        "where const = $\\sum_{i<j}w_{ij}/2+\\sum_i w_i/2 $. In other terms, the weighted Max-Cut problem is equivalent to minimizing the Ising Hamiltonian \n",
        "\n",
        "$$ H = \\sum_i w_i Z_i + \\sum_{i<j} w_{ij} Z_iZ_j.$$\n",
        "\n",
        "Aqua can generate the Ising Hamiltonian for the first profit function $\\tilde{C}$.\n",
        "\n",
        "\n",
        "### Approximate Universal Quantum Computing for Optimization Problems\n",
        "\n",
        "There has been a considerable amount of interest in recent times about the use of quantum computers to find a solution to combinatorial problems. It is important to say that, given the classical nature of combinatorial problems, exponential speedup in using quantum computers compared to the best classical algorithms is not guaranteed. However, due to the nature and importance of the target problems, it is worth investigating heuristic approaches on a quantum computer that could indeed speed up some problem instances. Here we demonstrate an approach that is based on the Quantum Approximate Optimization Algorithm by Farhi, Goldstone, and Gutman (2014). We frame the algorithm in the context of *approximate quantum computing*, given its heuristic nature. \n",
        "\n",
        "The Algorithm works as follows:\n",
        "1. Choose the $w_i$ and $w_{ij}$ in the target Ising problem. In principle, even higher powers of Z are allowed.\n",
        "2. Choose the depth of the quantum circuit $m$. Note that the depth can be modified adaptively.\n",
        "3. Choose a set of controls $\\theta$ and make a trial function $|\\psi(\\boldsymbol\\theta)\\rangle$, built using a quantum circuit made of C-Phase gates and single-qubit Y rotations, parameterized by the components of $\\boldsymbol\\theta$. \n",
        "4. Evaluate $C(\\boldsymbol\\theta) = \\langle\\psi(\\boldsymbol\\theta)~|H|~\\psi(\\boldsymbol\\theta)\\rangle = \\sum_i w_i \\langle\\psi(\\boldsymbol\\theta)~|Z_i|~\\psi(\\boldsymbol\\theta)\\rangle+ \\sum_{i<j} w_{ij} \\langle\\psi(\\boldsymbol\\theta)~|Z_iZ_j|~\\psi(\\boldsymbol\\theta)\\rangle$ by sampling the outcome of the circuit in the Z-basis and adding the expectation values of the individual Ising terms together. In general, different control points around $\\boldsymbol\\theta$ have to be estimated, depending on the classical optimizer chosen. \n",
        "5. Use a classical optimizer to choose a new set of controls.\n",
        "6. Continue until $C(\\boldsymbol\\theta)$ reaches a minimum, close enough to the solution $\\boldsymbol\\theta^*$.\n",
        "7. Use the last $\\boldsymbol\\theta$ to generate a final set of samples from the distribution $|\\langle z_i~|\\psi(\\boldsymbol\\theta)\\rangle|^2\\;\\forall i$ to obtain the answer.\n",
        "    \n",
        "It is our belief the difficulty of finding good heuristic algorithms will come down to the choice of an appropriate trial wavefunction. For example, one could consider a trial function whose entanglement best aligns with the target problem, or simply make the amount of entanglement a variable. In this tutorial, we will consider a simple trial function of the form\n",
        "\n",
        "$$|\\psi(\\theta)\\rangle  = [U_\\mathrm{single}(\\boldsymbol\\theta) U_\\mathrm{entangler}]^m |+\\rangle$$\n",
        "\n",
        "where $U_\\mathrm{entangler}$ is a collection of C-Phase gates (fully entangling gates), and $U_\\mathrm{single}(\\theta) = \\prod_{i=1}^n Y(\\theta_{i})$, where $n$ is the number of qubits and $m$ is the depth of the quantum circuit. The motivation for this choice is that for these classical problems this choice allows us to search over the space of quantum states that have only real coefficients, still exploiting the entanglement to potentially converge faster to the solution.\n",
        "\n",
        "One advantage of using this sampling method compared to adiabatic approaches is that the target Ising Hamiltonian does not have to be implemented directly on hardware, allowing this algorithm not to be limited to the connectivity of the device. Furthermore, higher-order terms in the cost function, such as $Z_iZ_jZ_k$, can also be sampled efficiently, whereas in adiabatic or annealing approaches they are generally impractical to deal with. \n",
        "\n",
        "\n",
        "References:\n",
        "- A. Lucas, Frontiers in Physics 2, 5 (2014)\n",
        "- E. Farhi, J. Goldstone, S. Gutmann e-print arXiv 1411.4028 (2014)\n",
        "- D. Wecker, M. B. Hastings, M. Troyer Phys. Rev. A 94, 022309 (2016)\n",
        "- E. Farhi, J. Goldstone, S. Gutmann, H. Neven e-print arXiv 1703.06199 (2017)"
      ]
    },
    {
      "cell_type": "markdown",
      "metadata": {
        "id": "Rw2lBQvK6XZS",
        "colab_type": "text"
      },
      "source": [
        "#Main Code Cells "
      ]
    },
    {
      "cell_type": "markdown",
      "metadata": {
        "id": "kxbANBKN4-I5",
        "colab_type": "text"
      },
      "source": [
        "## Import libraries\n"
      ]
    },
    {
      "cell_type": "code",
      "metadata": {
        "id": "dPKtKtBOLpr3",
        "colab_type": "code",
        "colab": {}
      },
      "source": [
        "#%pip uninstall qiskit"
      ],
      "execution_count": 1,
      "outputs": []
    },
    {
      "cell_type": "code",
      "metadata": {
        "id": "GsfRwjclGyHn",
        "colab_type": "code",
        "colab": {}
      },
      "source": [
        "%pip install qiskit==0.16"
      ],
      "execution_count": null,
      "outputs": []
    },
    {
      "cell_type": "code",
      "metadata": {
        "id": "BYV9mVvpJKIX",
        "colab_type": "code",
        "colab": {
          "base_uri": "https://localhost:8080/",
          "height": 547
        },
        "outputId": "d87df3b1-3895-4524-9557-e8a5b33843cc"
      },
      "source": [
        "import qiskit.tools.jupyter\n",
        "%qiskit_version_table\n",
        "%qiskit_copyright"
      ],
      "execution_count": 3,
      "outputs": [
        {
          "output_type": "display_data",
          "data": {
            "text/html": [
              "<h3>Version Information</h3><table><tr><th>Qiskit Software</th><th>Version</th></tr><tr><td>Qiskit</td><td>0.16.0</td></tr><tr><td>Terra</td><td>0.12.0</td></tr><tr><td>Aer</td><td>0.4.0</td></tr><tr><td>Ignis</td><td>0.2.0</td></tr><tr><td>Aqua</td><td>0.6.4</td></tr><tr><td>IBM Q Provider</td><td>0.5.0</td></tr><tr><th>System information</th></tr><tr><td>Python</td><td>3.6.9 (default, Apr 18 2020, 01:56:04) \n",
              "[GCC 8.4.0]</td></tr><tr><td>OS</td><td>Linux</td></tr><tr><td>CPUs</td><td>1</td></tr><tr><td>Memory (Gb)</td><td>12.715869903564453</td></tr><tr><td colspan='2'>Fri Jun 26 02:18:37 2020 UTC</td></tr></table>"
            ],
            "text/plain": [
              "<IPython.core.display.HTML object>"
            ]
          },
          "metadata": {
            "tags": []
          }
        },
        {
          "output_type": "display_data",
          "data": {
            "text/html": [
              "<div style='width: 100%; background-color:#d5d9e0;padding-left: 10px; padding-bottom: 10px; padding-right: 10px; padding-top: 5px'><h3>This code is a part of Qiskit</h3><p>&copy; Copyright IBM 2017, 2020.</p><p>This code is licensed under the Apache License, Version 2.0. You may<br>obtain a copy of this license in the LICENSE.txt file in the root directory<br> of this source tree or at http://www.apache.org/licenses/LICENSE-2.0.<p>Any modifications or derivative works of this code must retain this<br>copyright notice, and modified files need to carry a notice indicating<br>that they have been altered from the originals.</p></div>"
            ],
            "text/plain": [
              "<IPython.core.display.HTML object>"
            ]
          },
          "metadata": {
            "tags": []
          }
        }
      ]
    },
    {
      "cell_type": "code",
      "metadata": {
        "ExecuteTime": {
          "end_time": "2019-12-12T17:59:38.109248Z",
          "start_time": "2019-12-12T17:59:38.098188Z"
        },
        "colab_type": "code",
        "id": "NYl6i6iKgJAA",
        "papermill": {
          "duration": 6.488432,
          "end_time": "2020-03-12T03:56:22.244228",
          "exception": false,
          "start_time": "2020-03-12T03:56:15.755796",
          "status": "completed"
        },
        "tags": [],
        "trusted": false,
        "colab": {}
      },
      "source": [
        "# useful additional packages \n",
        "import matplotlib.pyplot as plt\n",
        "import matplotlib.axes as axes\n",
        "%matplotlib inline\n",
        "import numpy as np\n",
        "import networkx as nx\n",
        "\n",
        "from qiskit import Aer\n",
        "from qiskit.tools.visualization import plot_histogram\n",
        "\n",
        "#VGG#from qiskit.aqua.translators.ising import max_cut, tsp\n",
        "from qiskit.aqua import run_algorithm\n",
        "from qiskit.aqua.input import EnergyInput\n",
        "\n",
        "from qiskit.optimization.ising import max_cut, tsp\n",
        "from qiskit.optimization.ising.common import sample_most_likely\n",
        "\n",
        "from qiskit.aqua.algorithms import VQE, ExactEigensolver\n",
        "from qiskit.aqua.components.optimizers import SPSA\n",
        "from qiskit.aqua.components.variational_forms import RY\n",
        "from qiskit.aqua import QuantumInstance\n",
        "\n",
        "# setup aqua logging\n",
        "import logging\n",
        "from qiskit.aqua import set_qiskit_aqua_logging\n",
        "# set_qiskit_aqua_logging(logging.DEBUG)  # choose INFO, DEBUG to see the log"
      ],
      "execution_count": 4,
      "outputs": []
    },
    {
      "cell_type": "markdown",
      "metadata": {
        "colab_type": "text",
        "id": "4GqrhgSDgJAF",
        "papermill": {
          "duration": 0.265952,
          "end_time": "2020-03-12T03:56:22.589262",
          "exception": false,
          "start_time": "2020-03-12T03:56:22.323310",
          "status": "completed"
        },
        "tags": []
      },
      "source": [
        "## Setup token to run the experiment on a real device\n",
        "If you would like to run the experiment on a real device, you need to setup your account first.\n",
        "\n",
        "Note: If you do not store your token yet, use `IBMQ.save_account('MY_API_TOKEN')` to store it first."
      ]
    },
    {
      "cell_type": "code",
      "metadata": {
        "ExecuteTime": {
          "end_time": "2019-12-12T17:59:38.838143Z",
          "start_time": "2019-12-12T17:59:38.836008Z"
        },
        "colab_type": "code",
        "id": "1a-_dBFBgJAH",
        "papermill": {
          "duration": 3.557514,
          "end_time": "2020-03-12T03:56:26.244473",
          "exception": false,
          "start_time": "2020-03-12T03:56:22.686959",
          "status": "completed"
        },
        "tags": [],
        "trusted": false,
        "colab": {}
      },
      "source": [
        "#from qiskit import IBMQ\n",
        "#provider = IBMQ.load_account()"
      ],
      "execution_count": 5,
      "outputs": []
    },
    {
      "cell_type": "code",
      "metadata": {
        "colab_type": "code",
        "id": "gBmv-6VbgJAL",
        "papermill": {
          "duration": 0.082241,
          "end_time": "2020-03-12T03:56:26.441082",
          "exception": false,
          "start_time": "2020-03-12T03:56:26.358841",
          "status": "completed"
        },
        "tags": [],
        "trusted": false,
        "colab": {
          "base_uri": "https://localhost:8080/",
          "height": 34
        },
        "outputId": "1ebd8460-fd0a-4b56-c031-20b3715d41ba"
      },
      "source": [
        "#VGG select the backend for coupling_map\n",
        "try: \n",
        "    backend = provider.get_backend('ibmq_16_melbourne')#'ibmq_16_melbourne')#'ibmq_essex')\n",
        "    #backend = provider.get_backend('ibmq_london')#'ibmq_16_melbourne')#'ibmq_essex')\n",
        "except:\n",
        "    backend = Aer.get_backend('qasm_simulator') #VGG it was 'BasicAer.get_backend' ibmq_16_melbourne\n",
        "    \n",
        "coupling_map = backend.configuration().coupling_map\n",
        "print(coupling_map)"
      ],
      "execution_count": 6,
      "outputs": [
        {
          "output_type": "stream",
          "text": [
            "None\n"
          ],
          "name": "stdout"
        }
      ]
    },
    {
      "cell_type": "markdown",
      "metadata": {
        "colab_type": "text",
        "id": "UE1ETuhkgJAS",
        "papermill": {
          "duration": 0.072025,
          "end_time": "2020-03-12T03:56:26.587093",
          "exception": false,
          "start_time": "2020-03-12T03:56:26.515068",
          "status": "completed"
        },
        "tags": []
      },
      "source": [
        "# Stting up the code for the Max-Cut problem"
      ]
    },
    {
      "cell_type": "markdown",
      "metadata": {
        "colab_type": "text",
        "id": "85GE9gMBgJAT",
        "papermill": {
          "duration": 0.110541,
          "end_time": "2020-03-12T03:56:26.771374",
          "exception": false,
          "start_time": "2020-03-12T03:56:26.660833",
          "status": "completed"
        },
        "tags": []
      },
      "source": [
        "### Generate Random Weighted Graph\n",
        "\n",
        "Given a list of edges, we generate a graph with random edge weights in the range \\[-1,1)."
      ]
    },
    {
      "cell_type": "code",
      "metadata": {
        "colab_type": "code",
        "id": "onhnlv97gJAV",
        "papermill": {
          "duration": 0.082505,
          "end_time": "2020-03-12T03:56:26.930504",
          "exception": false,
          "start_time": "2020-03-12T03:56:26.847999",
          "status": "completed"
        },
        "tags": [],
        "trusted": false,
        "colab": {}
      },
      "source": [
        "from typing import List, Tuple\n",
        "\n",
        "seed = 19120623\n",
        "np.random.seed(seed)\n",
        "\n",
        "#VGG: function adopted from the Rigetti's MaxCutQAOA.ipynb\n",
        "def generate_ising_graph(edges: List[Tuple[int, int]]) -> nx.Graph:\n",
        "    graph = nx.from_edgelist(edges)\n",
        "    weights:  np.ndarray = 2.0 * np.random.rand(graph.number_of_edges()) - 1.0\n",
        "    weights /= np.linalg.norm(weights)\n",
        "    nx.set_edge_attributes(graph, {e: {'weight': w} for e, w in zip(graph.edges, weights)})\n",
        "    return graph"
      ],
      "execution_count": 7,
      "outputs": []
    },
    {
      "cell_type": "code",
      "metadata": {
        "colab_type": "code",
        "id": "5Oj_Y52XgJAa",
        "papermill": {
          "duration": 0.166437,
          "end_time": "2020-03-12T03:56:27.171022",
          "exception": false,
          "start_time": "2020-03-12T03:56:27.004585",
          "status": "completed"
        },
        "tags": [],
        "trusted": false,
        "colab": {}
      },
      "source": [
        "if coupling_map != None:\n",
        "    G=generate_ising_graph(coupling_map)\n",
        "    n=G.number_of_nodes()\n",
        "    print(n)"
      ],
      "execution_count": 8,
      "outputs": []
    },
    {
      "cell_type": "code",
      "metadata": {
        "ExecuteTime": {
          "end_time": "2019-12-12T17:59:40.984512Z",
          "start_time": "2019-12-12T17:59:40.783157Z"
        },
        "colab_type": "code",
        "id": "zRStKm5jgJAh",
        "papermill": {
          "duration": 0.088352,
          "end_time": "2020-03-12T03:56:27.340782",
          "exception": false,
          "start_time": "2020-03-12T03:56:27.252430",
          "status": "completed"
        },
        "tags": [],
        "trusted": false,
        "colab": {}
      },
      "source": [
        "# Generating a graph if there were no coupling_map\n",
        "if coupling_map== None:\n",
        "    #define the edges / coupling_map\n",
        "    \n",
        "    #'ibmq_16_melbourne'\n",
        "    elist=[[0, 1], [0, 14], [1, 0], [1, 2], [1, 13], [2, 1], [2, 3], [2, 12], \n",
        "           [3, 2], [3, 4], [3, 11], [4, 3], [4, 5], [4, 10], [5, 4], [5, 6], \n",
        "           [5, 9], [6, 5], [6, 8], [7, 8], [8, 6], [8, 7], [8, 9], [9, 5], [9, 8], \n",
        "           [9, 10], [10, 4], [10, 9], [10, 11], [11, 3], [11, 10], [11, 12], [12, 2], \n",
        "           [12, 11], [12, 13], [13, 1], [13, 12], [13, 14], [14, 0], [14, 13]]\n",
        "    \n",
        "    elist=[[0,1],[0,2],[0,3],[1,2],[2,3]]\n",
        "\n",
        "    G=generate_ising_graph(elist)\n",
        "    n=G.number_of_nodes()\n",
        "    \n",
        "#other ways to define the graph   \n",
        "    #n=5 # Number of nodes in graph\n",
        "    #G=nx.Graph()\n",
        "    #G.add_nodes_from(np.arange(0,n,1))\n",
        "    \n",
        "    #ewlist=[(0,1,1.),(0,2,.5),(0,3,0),(1,2,1.0),(0,3,1.0)]\n",
        "    #G1 = nx.from_edgelist(elist)\n",
        "    #G1.add_weighted_edges_from(ewlist)\n",
        "    \n",
        "    \n"
      ],
      "execution_count": 9,
      "outputs": []
    },
    {
      "cell_type": "markdown",
      "metadata": {
        "colab_type": "text",
        "id": "P-nfLK1ijEBX",
        "papermill": {
          "duration": 0.077867,
          "end_time": "2020-03-12T03:56:27.493563",
          "exception": false,
          "start_time": "2020-03-12T03:56:27.415696",
          "status": "completed"
        },
        "tags": []
      },
      "source": [
        "## Visulaize the Graph"
      ]
    },
    {
      "cell_type": "code",
      "metadata": {
        "ExecuteTime": {
          "end_time": "2019-12-12T17:59:40.984512Z",
          "start_time": "2019-12-12T17:59:40.783157Z"
        },
        "colab_type": "code",
        "id": "2-oriBdagJAk",
        "papermill": {
          "duration": 0.371556,
          "end_time": "2020-03-12T03:56:27.939545",
          "exception": false,
          "start_time": "2020-03-12T03:56:27.567989",
          "status": "completed"
        },
        "tags": [],
        "trusted": false,
        "colab": {
          "base_uri": "https://localhost:8080/",
          "height": 265
        },
        "outputId": "34583842-ec98-44cd-aba2-6edd0552b5cd"
      },
      "source": [
        "#Visulaize\n",
        "print(G.number_of_nodes(),G.number_of_edges())\n",
        "colors = ['r' for node in G.nodes()]\n",
        "pos = nx.spring_layout(G)\n",
        "default_axes = plt.axes(frameon=True)\n",
        "nx.draw_networkx(G, node_color=colors, node_size=600, alpha=.8, ax=default_axes, pos=pos)"
      ],
      "execution_count": 10,
      "outputs": [
        {
          "output_type": "stream",
          "text": [
            "4 5\n"
          ],
          "name": "stdout"
        },
        {
          "output_type": "display_data",
          "data": {
            "image/png": "[encoded data removed]",
            "text/plain": [
              "<Figure size 432x288 with 1 Axes>"
            ]
          },
          "metadata": {
            "tags": []
          }
        }
      ]
    },
    {
      "cell_type": "code",
      "metadata": {
        "colab_type": "code",
        "id": "VW3-NLq1gJAo",
        "papermill": {
          "duration": 0.272728,
          "end_time": "2020-03-12T03:56:28.313753",
          "exception": false,
          "start_time": "2020-03-12T03:56:28.041025",
          "status": "completed"
        },
        "tags": [],
        "trusted": false,
        "colab": {
          "base_uri": "https://localhost:8080/",
          "height": 319
        },
        "outputId": "48187cf7-877b-45f2-9905-53dd720c39ee"
      },
      "source": [
        "nx.drawing.nx_pylab.draw(G)"
      ],
      "execution_count": 11,
      "outputs": [
        {
          "output_type": "display_data",
          "data": {
            "image/png": "[encoded data removed]",
            "text/plain": [
              "<Figure size 432x288 with 1 Axes>"
            ]
          },
          "metadata": {
            "tags": []
          }
        }
      ]
    },
    {
      "cell_type": "markdown",
      "metadata": {
        "colab_type": "text",
        "id": "3TPpoF6EgJAs",
        "papermill": {
          "duration": 0.088287,
          "end_time": "2020-03-12T03:56:28.514560",
          "exception": false,
          "start_time": "2020-03-12T03:56:28.426273",
          "status": "completed"
        },
        "tags": []
      },
      "source": [
        "##  Pepare for potential export of the graph's weights and edges\n",
        "G1 = nx.from_edgelist(elist);\n",
        "G1.add_weighted_edges_from(ewlist)"
      ]
    },
    {
      "cell_type": "code",
      "metadata": {
        "colab_type": "code",
        "id": "br2VZc3SgJAt",
        "papermill": {
          "duration": 0.090566,
          "end_time": "2020-03-12T03:56:28.686420",
          "exception": false,
          "start_time": "2020-03-12T03:56:28.595854",
          "status": "completed"
        },
        "tags": [],
        "trusted": false,
        "colab": {
          "base_uri": "https://localhost:8080/",
          "height": 34
        },
        "outputId": "0bb3c4c2-5894-42f3-b74c-29060ed28ce1"
      },
      "source": [
        "elist=G.edges()\n",
        "print(\"elist=\",elist)"
      ],
      "execution_count": 12,
      "outputs": [
        {
          "output_type": "stream",
          "text": [
            "elist= [(0, 1), (0, 2), (0, 3), (1, 2), (2, 3)]\n"
          ],
          "name": "stdout"
        }
      ]
    },
    {
      "cell_type": "code",
      "metadata": {
        "colab_type": "code",
        "id": "YhhxZwW8gJA0",
        "papermill": {
          "duration": 0.092148,
          "end_time": "2020-03-12T03:56:28.862483",
          "exception": false,
          "start_time": "2020-03-12T03:56:28.770335",
          "status": "completed"
        },
        "tags": [],
        "trusted": false,
        "colab": {
          "base_uri": "https://localhost:8080/",
          "height": 54
        },
        "outputId": "437053c1-f82b-43a2-cd76-99c27e1f9cd6"
      },
      "source": [
        "ewlist=[(i,j,G.get_edge_data(i,j,default=0)['weight']) for i,j in G.edges()]\n",
        "print('ewlist=',ewlist)"
      ],
      "execution_count": 13,
      "outputs": [
        {
          "output_type": "stream",
          "text": [
            "ewlist= [(0, 1, 0.47385343962014526), (0, 2, 0.5060071509421842), (0, 3, -0.34853220064443957), (1, 2, 0.6179260784259317), (2, 3, 0.126934422717497)]\n"
          ],
          "name": "stdout"
        }
      ]
    },
    {
      "cell_type": "code",
      "metadata": {
        "ExecuteTime": {
          "end_time": "2019-12-12T17:59:41.709471Z",
          "start_time": "2019-12-12T17:59:41.702848Z"
        },
        "colab_type": "code",
        "id": "wr6lQmHHgJA3",
        "papermill": {
          "duration": 0.095289,
          "end_time": "2020-03-12T03:56:29.038232",
          "exception": false,
          "start_time": "2020-03-12T03:56:28.942943",
          "status": "completed"
        },
        "tags": [],
        "trusted": false,
        "colab": {
          "base_uri": "https://localhost:8080/",
          "height": 85
        },
        "outputId": "32facaa6-b909-4ae7-ba7c-3b44ed0e0c4f"
      },
      "source": [
        "# Computing the weight matrix from the random graph\n",
        "w = np.zeros([n,n])\n",
        "for i in range(n):\n",
        "    for j in range(n):\n",
        "        temp = G.get_edge_data(i,j,default=0)\n",
        "        if temp != 0:\n",
        "            w[i,j] = temp['weight'] \n",
        "w"
      ],
      "execution_count": 40,
      "outputs": [
        {
          "output_type": "execute_result",
          "data": {
            "text/plain": [
              "array([[ 0.        ,  0.47385344,  0.50600715, -0.3485322 ],\n",
              "       [ 0.47385344,  0.        ,  0.61792608,  0.        ],\n",
              "       [ 0.50600715,  0.61792608,  0.        ,  0.12693442],\n",
              "       [-0.3485322 ,  0.        ,  0.12693442,  0.        ]])"
            ]
          },
          "metadata": {
            "tags": []
          },
          "execution_count": 40
        }
      ]
    },
    {
      "cell_type": "code",
      "metadata": {
        "id": "GeuV7JWWCwVL",
        "colab_type": "code",
        "colab": {
          "base_uri": "https://localhost:8080/",
          "height": 34
        },
        "outputId": "d7cd2b74-4353-45b0-f2c9-8dbe5ed81cd8"
      },
      "source": [
        "np.sum(w)/4"
      ],
      "execution_count": 46,
      "outputs": [
        {
          "output_type": "execute_result",
          "data": {
            "text/plain": [
              "0.6880944455306593"
            ]
          },
          "metadata": {
            "tags": []
          },
          "execution_count": 46
        }
      ]
    },
    {
      "cell_type": "markdown",
      "metadata": {
        "id": "je0cFNlwGq2C",
        "colab_type": "text"
      },
      "source": [
        "[0,1,1,0]\n",
        "\n",
        "[1,0,1,0]\n",
        "\n",
        "[1,1,0,0]\n",
        "\n",
        "[0,0,0,0]"
      ]
    },
    {
      "cell_type": "markdown",
      "metadata": {
        "colab_type": "text",
        "id": "UQSv6WsUgJA7",
        "papermill": {
          "duration": 0.083057,
          "end_time": "2020-03-12T03:56:29.205519",
          "exception": false,
          "start_time": "2020-03-12T03:56:29.122462",
          "status": "completed"
        },
        "tags": []
      },
      "source": [
        "## Brute force approach to Max-Cut\n",
        "\n",
        "Try all possible $2^n$ combinations. For $n = 4$, as in this example, one deals with only 16 combinations, but for n = 1000, one has 1.071509e+30 combinations, which is impractical to deal with by using a brute force approach. "
      ]
    },
    {
      "cell_type": "code",
      "metadata": {
        "ExecuteTime": {
          "end_time": "2019-12-12T17:59:42.618252Z",
          "start_time": "2019-12-12T17:59:42.418721Z"
        },
        "colab_type": "code",
        "id": "d_WTR1_OgJA8",
        "papermill": {
          "duration": 9.947705,
          "end_time": "2020-03-12T03:56:39.236869",
          "exception": false,
          "start_time": "2020-03-12T03:56:29.289164",
          "status": "completed"
        },
        "tags": [],
        "trusted": false,
        "colab": {
          "base_uri": "https://localhost:8080/",
          "height": 554
        },
        "outputId": "23ba3d63-131f-44f9-e164-9de37c791245"
      },
      "source": [
        "best_cost_brute = 0\n",
        "for b in range(2**n):\n",
        "    x = [int(t) for t in reversed(list(bin(b)[2:].zfill(n)))]\n",
        "    cost = 0\n",
        "    for i in range(n):\n",
        "        for j in range(n):\n",
        "            cost = cost + w[i,j]*x[i]*(1-x[j])\n",
        "    if best_cost_brute < cost:\n",
        "        best_cost_brute = cost\n",
        "        xbest_brute = x \n",
        "    if n < 5:\n",
        "        print('case = ' + str(x)+ ' cost = ' + str(cost))\n",
        "\n",
        "colors = ['r' if xbest_brute[i] == 0 else 'b' for i in range(n)]\n",
        "nx.draw_networkx(G, node_color=colors, node_size=600, alpha=.8, pos=pos)\n",
        "print('\\nBest solution = ' + str(xbest_brute) + ' cost = ' + str(best_cost_brute))    "
      ],
      "execution_count": 41,
      "outputs": [
        {
          "output_type": "stream",
          "text": [
            "case = [0, 0, 0, 0] cost = 0.0\n",
            "case = [1, 0, 0, 0] cost = 0.6313283899178899\n",
            "case = [0, 1, 0, 0] cost = 1.091779518046077\n",
            "case = [1, 1, 0, 0] cost = 0.7754010287236763\n",
            "case = [0, 0, 1, 0] cost = 1.250867652085613\n",
            "case = [1, 0, 1, 0] cost = 0.8701817401191344\n",
            "case = [0, 1, 1, 0] cost = 1.1067950132798265\n",
            "case = [1, 1, 1, 0] cost = -0.22159777792694257\n",
            "case = [0, 0, 0, 1] cost = -0.22159777792694257\n",
            "case = [1, 0, 0, 1] cost = 1.1067950132798265\n",
            "case = [0, 1, 0, 1] cost = 0.8701817401191344\n",
            "case = [1, 1, 0, 1] cost = 1.250867652085613\n",
            "case = [0, 0, 1, 1] cost = 0.7754010287236763\n",
            "case = [1, 0, 1, 1] cost = 1.091779518046077\n",
            "case = [0, 1, 1, 1] cost = 0.6313283899178899\n",
            "case = [1, 1, 1, 1] cost = 0.0\n",
            "\n",
            "Best solution = [0, 0, 1, 0] cost = 1.250867652085613\n"
          ],
          "name": "stdout"
        },
        {
          "output_type": "display_data",
          "data": {
            "image/png": "[encoded data removed]",
            "text/plain": [
              "<Figure size 432x288 with 1 Axes>"
            ]
          },
          "metadata": {
            "tags": []
          }
        }
      ]
    },
    {
      "cell_type": "markdown",
      "metadata": {
        "colab_type": "text",
        "id": "XCr6nHa3gJBA",
        "papermill": {
          "duration": 0.084768,
          "end_time": "2020-03-12T03:56:39.412098",
          "exception": false,
          "start_time": "2020-03-12T03:56:39.327330",
          "status": "completed"
        },
        "tags": []
      },
      "source": [
        "## Mapping to the Ising problem"
      ]
    },
    {
      "cell_type": "code",
      "metadata": {
        "ExecuteTime": {
          "end_time": "2019-12-12T17:59:42.814360Z",
          "start_time": "2019-12-12T17:59:42.806413Z"
        },
        "colab_type": "code",
        "id": "g3CpUQmSgJBD",
        "papermill": {
          "duration": 0.10715,
          "end_time": "2020-03-12T03:56:39.603949",
          "exception": false,
          "start_time": "2020-03-12T03:56:39.496799",
          "status": "completed"
        },
        "tags": [],
        "trusted": false,
        "colab": {}
      },
      "source": [
        "#VGG qubitOp, offset = max_cut.get_max_cut_qubitops(w)\n",
        "qubitOp, offset = max_cut.get_operator(w)\n",
        "algo_input = EnergyInput(qubitOp)"
      ],
      "execution_count": 42,
      "outputs": []
    },
    {
      "cell_type": "markdown",
      "metadata": {
        "colab_type": "text",
        "id": "Di-nT72LgJBH",
        "papermill": {
          "duration": 0.086005,
          "end_time": "2020-03-12T03:56:39.790755",
          "exception": false,
          "start_time": "2020-03-12T03:56:39.704750",
          "status": "completed"
        },
        "tags": []
      },
      "source": [
        "### Checking that the full Hamiltonian gives the right cost "
      ]
    },
    {
      "cell_type": "code",
      "metadata": {
        "ExecuteTime": {
          "end_time": "2019-12-12T17:59:47.642069Z",
          "start_time": "2019-12-12T17:59:47.435702Z"
        },
        "colab_type": "code",
        "id": "sQT4-VAygJBH",
        "papermill": {
          "duration": 0.541471,
          "end_time": "2020-03-12T03:56:40.422029",
          "exception": false,
          "start_time": "2020-03-12T03:56:39.880558",
          "status": "completed"
        },
        "tags": [],
        "trusted": false,
        "colab": {
          "base_uri": "https://localhost:8080/",
          "height": 316
        },
        "outputId": "d57ade32-58f8-4efc-917a-642293b8d8e1"
      },
      "source": [
        "#Making the Hamiltonian in its full form and getting the lowest eigenvalue and eigenvector\n",
        "ee = ExactEigensolver(qubitOp, k=1)\n",
        "result = ee.run()\n",
        "\n",
        "#VGG# x = max_cut.sample_most_likely(result['eigvecs'][0])\n",
        "x = sample_most_likely(result['eigvecs'][0]) \n",
        "\n",
        "print('energy:', result['energy'],', offset:',offset)\n",
        "print('max-cut objective:', result['energy'] + offset)\n",
        "print('solution:', max_cut.get_graph_solution(x))\n",
        "print('solution objective:', max_cut.max_cut_value(x, w))\n",
        "\n",
        "colors = ['r' if max_cut.get_graph_solution(x)[i] == 0 else 'b' for i in range(n)]\n",
        "nx.draw_networkx(G, node_color=colors, node_size=600, alpha = .8, pos=pos)"
      ],
      "execution_count": 44,
      "outputs": [
        {
          "output_type": "stream",
          "text": [
            "energy: -0.5627732065549536 , offset: -0.6880944455306592\n",
            "max-cut objective: -1.2508676520856128\n",
            "solution: [1. 1. 0. 1.]\n",
            "solution objective: 1.250867652085613\n"
          ],
          "name": "stdout"
        },
        {
          "output_type": "display_data",
          "data": {
            "image/png": "[encoded data removed]",
            "text/plain": [
              "<Figure size 432x288 with 1 Axes>"
            ]
          },
          "metadata": {
            "tags": []
          }
        }
      ]
    },
    {
      "cell_type": "markdown",
      "metadata": {
        "colab_type": "text",
        "id": "Nk1VcD6VgJBL",
        "papermill": {
          "duration": 0.096524,
          "end_time": "2020-03-12T03:56:40.610762",
          "exception": false,
          "start_time": "2020-03-12T03:56:40.514238",
          "status": "completed"
        },
        "tags": []
      },
      "source": [
        "### [Optional] Using DOcplex for mapping to the Ising problem\n",
        "Using ```docplex.get_qubitops``` is a different way to create an Ising Hamiltonian of Max-Cut. ```docplex.get_qubitops``` can create a corresponding Ising Hamiltonian from an optimization model of Max-Cut. An example of using ```docplex.get_qubitops``` is as below. "
      ]
    },
    {
      "cell_type": "code",
      "metadata": {
        "ExecuteTime": {
          "end_time": "2019-12-12T17:59:43.518965Z",
          "start_time": "2019-12-12T17:59:43.130559Z"
        },
        "colab_type": "code",
        "id": "Ee_79O6EgJBM",
        "papermill": {
          "duration": 12.591953,
          "end_time": "2020-03-12T03:56:53.313978",
          "exception": false,
          "start_time": "2020-03-12T03:56:40.722025",
          "status": "completed"
        },
        "tags": [],
        "trusted": false,
        "colab": {}
      },
      "source": [
        "from docplex.mp.model import Model\n",
        "\n",
        "#VGG from qiskit.aqua.translators.ising import docplex\n",
        "from qiskit.optimization.ising import docplex\n",
        "\n",
        "# Create an instance of a model and variables.\n",
        "mdl = Model(name='max_cut')\n",
        "x = {i: mdl.binary_var(name='x_{0}'.format(i)) for i in range(n)}\n",
        "\n",
        "# Object function\n",
        "max_cut_func = mdl.sum(w[i,j]* x[i] * ( 1 - x[j] ) for i in range(n) for j in range(n))\n",
        "mdl.maximize(max_cut_func)\n",
        "\n",
        "# No constraints for Max-Cut problems."
      ],
      "execution_count": 18,
      "outputs": []
    },
    {
      "cell_type": "code",
      "metadata": {
        "ExecuteTime": {
          "end_time": "2019-12-12T17:59:43.600910Z",
          "start_time": "2019-12-12T17:59:43.595066Z"
        },
        "colab_type": "code",
        "id": "Dq4k2dkigJBR",
        "papermill": {
          "duration": 0.112392,
          "end_time": "2020-03-12T03:56:53.530839",
          "exception": false,
          "start_time": "2020-03-12T03:56:53.418447",
          "status": "completed"
        },
        "tags": [],
        "trusted": false,
        "colab": {}
      },
      "source": [
        "#VGG# qubitOp_docplex, offset_docplex = docplex.get_qubitops(mdl)\n",
        "qubitOp_docplex, offset_docplex = docplex.get_operator(mdl)"
      ],
      "execution_count": 19,
      "outputs": []
    },
    {
      "cell_type": "markdown",
      "metadata": {
        "colab_type": "text",
        "id": "tPHlb2KpgJBV",
        "papermill": {
          "duration": 0.096382,
          "end_time": "2020-03-12T03:56:53.724708",
          "exception": false,
          "start_time": "2020-03-12T03:56:53.628326",
          "status": "completed"
        },
        "tags": []
      },
      "source": [
        "### Checking that the full Hamiltonian made by ```docplex.get_qubitops```  gives the right cost"
      ]
    },
    {
      "cell_type": "code",
      "metadata": {
        "colab_type": "code",
        "id": "BPSRHW9OgJBW",
        "papermill": {
          "duration": 0.48577,
          "end_time": "2020-03-12T03:56:54.307694",
          "exception": false,
          "start_time": "2020-03-12T03:56:53.821924",
          "status": "completed"
        },
        "tags": [],
        "trusted": false,
        "colab": {
          "base_uri": "https://localhost:8080/",
          "height": 316
        },
        "outputId": "69a474f8-d7b1-4003-f8a3-c03ee9ecf659"
      },
      "source": [
        "#Making the Hamiltonian in its full form and getting the lowest eigenvalue and eigenvector\n",
        "ee = ExactEigensolver(qubitOp_docplex, k=1)\n",
        "result = ee.run()\n",
        "\n",
        "#VGG# x = docplex.sample_most_likely(result['eigvecs'][0])\n",
        "x = sample_most_likely(result['eigvecs'][0])\n",
        "\n",
        "print('energy:', result['energy'])\n",
        "print('max-cut objective:', result['energy'] + offset_docplex)\n",
        "print('solution:', max_cut.get_graph_solution(x))\n",
        "print('solution objective:', max_cut.max_cut_value(x, w))\n",
        "\n",
        "colors = ['r' if max_cut.get_graph_solution(x)[i] == 0 else 'b' for i in range(n)]\n",
        "nx.draw_networkx(G, node_color=colors, node_size=600, alpha = .8, pos=pos)"
      ],
      "execution_count": 20,
      "outputs": [
        {
          "output_type": "stream",
          "text": [
            "energy: -0.5627732065549537\n",
            "max-cut objective: -1.250867652085613\n",
            "solution: [1. 1. 0. 1.]\n",
            "solution objective: 1.250867652085613\n"
          ],
          "name": "stdout"
        },
        {
          "output_type": "display_data",
          "data": {
            "image/png": "[encoded data removed]",
            "text/plain": [
              "<Figure size 432x288 with 1 Axes>"
            ]
          },
          "metadata": {
            "tags": []
          }
        }
      ]
    },
    {
      "cell_type": "markdown",
      "metadata": {
        "colab_type": "text",
        "id": "yGrp8wWKgJBc",
        "papermill": {
          "duration": 0.111064,
          "end_time": "2020-03-12T03:56:54.518671",
          "exception": false,
          "start_time": "2020-03-12T03:56:54.407607",
          "status": "completed"
        },
        "tags": []
      },
      "source": [
        "# Running it on a quantum computer\n",
        "We run the optimization routine using a feedback loop with a quantum computer that uses trial functions built with Y single-qubit rotations, $U_\\mathrm{single}(\\theta) = \\prod_{i=1}^n Y(\\theta_{i})$, and entangler steps $U_\\mathrm{entangler}$."
      ]
    },
    {
      "cell_type": "markdown",
      "metadata": {
        "colab_type": "text",
        "id": "S-lmsvcagJBh",
        "papermill": {
          "duration": 0.096835,
          "end_time": "2020-03-12T03:56:54.719354",
          "exception": false,
          "start_time": "2020-03-12T03:56:54.622519",
          "status": "completed"
        },
        "tags": []
      },
      "source": [
        "### First some results from runing on few simulater systems "
      ]
    },
    {
      "cell_type": "code",
      "metadata": {
        "ExecuteTime": {
          "end_time": "2019-12-12T18:00:12.595984Z",
          "start_time": "2019-12-12T17:59:52.126693Z"
        },
        "colab_type": "code",
        "id": "0N8v7qbngJBi",
        "papermill": {
          "duration": 203.982206,
          "end_time": "2020-03-12T04:00:18.796289",
          "exception": false,
          "start_time": "2020-03-12T03:56:54.814083",
          "status": "completed"
        },
        "scrolled": false,
        "tags": [],
        "trusted": false,
        "colab": {
          "base_uri": "https://localhost:8080/",
          "height": 350
        },
        "outputId": "a999ef3b-386c-4714-9a48-76656d407ef8"
      },
      "source": [
        "seed = 10598\n",
        "\n",
        "spsa = SPSA(max_trials=300)\n",
        "ry = RY(qubitOp.num_qubits, depth=5, entanglement='linear')\n",
        "vqe = VQE(qubitOp, ry, spsa)\n",
        "\n",
        "backend1 = Aer.get_backend('statevector_simulator')\n",
        "quantum_instance = QuantumInstance(backend1, seed_simulator=seed, seed_transpiler=seed)\n",
        "\n",
        "print(backend1)\n",
        "result = vqe.run(quantum_instance)\n",
        "\n",
        "#VGG# x = max_cut.sample_most_likely(result['eigvecs'][0])\n",
        "x = sample_most_likely(result['eigvecs'][0])\n",
        "\n",
        "print('energy:', result['energy'])\n",
        "print('time:', result['eval_time'])\n",
        "print('max-cut objective:', result['energy'] + offset)\n",
        "print('solution:', max_cut.get_graph_solution(x))\n",
        "print('solution objective:', max_cut.max_cut_value(x, w))\n",
        "\n",
        "colors = ['r' if max_cut.get_graph_solution(x)[i] == 0 else 'b' for i in range(n)]\n",
        "nx.draw_networkx(G, node_color=colors, node_size=600, alpha = .8, pos=pos)"
      ],
      "execution_count": 21,
      "outputs": [
        {
          "output_type": "stream",
          "text": [
            "statevector_simulator\n",
            "energy: -0.5625736736633661\n",
            "time: 7.215724229812622\n",
            "max-cut objective: -1.2506681191940254\n",
            "solution: [0. 0. 1. 0.]\n",
            "solution objective: 1.250867652085613\n"
          ],
          "name": "stdout"
        },
        {
          "output_type": "display_data",
          "data": {
            "image/png": "[encoded data removed]",
            "text/plain": [
              "<Figure size 432x288 with 1 Axes>"
            ]
          },
          "metadata": {
            "tags": []
          }
        }
      ]
    },
    {
      "cell_type": "code",
      "metadata": {
        "ExecuteTime": {
          "end_time": "2019-12-12T18:00:40.238107Z",
          "start_time": "2019-12-12T18:00:12.618707Z"
        },
        "colab_type": "code",
        "id": "7lKJ0Em8gJBo",
        "papermill": {
          "duration": 1832.229602,
          "end_time": "2020-03-12T04:30:51.124712",
          "exception": false,
          "start_time": "2020-03-12T04:00:18.895110",
          "status": "completed"
        },
        "tags": [],
        "trusted": false,
        "colab": {
          "base_uri": "https://localhost:8080/",
          "height": 350
        },
        "outputId": "09fefc86-ead9-4144-e289-bb7544a6eb04"
      },
      "source": [
        "# run quantum algorithm with shots\n",
        "seed = 10598\n",
        "\n",
        "spsa = SPSA(max_trials=300)\n",
        "ry = RY(qubitOp.num_qubits, depth=5, entanglement='linear')\n",
        "vqe = VQE(qubitOp, ry, spsa)\n",
        "\n",
        "backend2 = Aer.get_backend('qasm_simulator') #VGG it was 'BasicAer.get_backend' ibmq_16_melbourne\n",
        "quantum_instance = QuantumInstance(backend2, shots=1024, seed_simulator=seed, seed_transpiler=seed)\n",
        "\n",
        "print(backend2)\n",
        "result = vqe.run(quantum_instance)\n",
        "\n",
        "\"\"\"declarative approach, update the param from the previous cell.\n",
        "params['backend']['provider'] = 'qiskit.BasicAer'\n",
        "params['backend']['name'] = 'qasm_simulator'\n",
        "params['backend']['shots'] = 1024\n",
        "result = run_algorithm(params, algo_input)\n",
        "\"\"\"\n",
        "\n",
        "#VGG# x = max_cut.sample_most_likely(result['eigvecs'][0])\n",
        "x = sample_most_likely(result['eigvecs'][0])\n",
        "\n",
        "print('energy:', result['energy'])\n",
        "print('time:', result['eval_time'])\n",
        "print('max-cut objective:', result['energy'] + offset)\n",
        "print('solution:', max_cut.get_graph_solution(x))\n",
        "print('solution objective:', max_cut.max_cut_value(x, w))\n",
        "plot_histogram(result['eigvecs'][0])\n",
        "\n",
        "colors = ['r' if max_cut.get_graph_solution(x)[i] == 0 else 'b' for i in range(n)]\n",
        "nx.draw_networkx(G, node_color=colors, node_size=600, alpha = .8, pos=pos)"
      ],
      "execution_count": 22,
      "outputs": [
        {
          "output_type": "stream",
          "text": [
            "qasm_simulator\n",
            "energy: -0.5627732065549536\n",
            "time: 11.292255163192749\n",
            "max-cut objective: -1.2508676520856128\n",
            "solution: [0 0 1 0]\n",
            "solution objective: 1.250867652085613\n"
          ],
          "name": "stdout"
        },
        {
          "output_type": "display_data",
          "data": {
            "image/png": "[encoded data removed]",
            "text/plain": [
              "<Figure size 432x288 with 1 Axes>"
            ]
          },
          "metadata": {
            "tags": []
          }
        }
      ]
    },
    {
      "cell_type": "markdown",
      "metadata": {
        "colab_type": "text",
        "id": "AuUrMw1HgJBr",
        "papermill": {
          "duration": 0.10374,
          "end_time": "2020-03-12T04:30:51.338270",
          "exception": false,
          "start_time": "2020-03-12T04:30:51.234530",
          "status": "completed"
        },
        "tags": []
      },
      "source": [
        "## Results from runing on the IBMQ system "
      ]
    },
    {
      "cell_type": "code",
      "metadata": {
        "colab_type": "code",
        "id": "7117WBQAgJBv",
        "papermill": {
          "duration": 0.133988,
          "end_time": "2020-03-12T04:30:51.606039",
          "exception": false,
          "start_time": "2020-03-12T04:30:51.472051",
          "status": "completed"
        },
        "tags": [],
        "trusted": false,
        "colab": {
          "base_uri": "https://localhost:8080/",
          "height": 34
        },
        "outputId": "1c787c50-753a-4e5f-fe6a-18161ce24b54"
      },
      "source": [
        "backend"
      ],
      "execution_count": 23,
      "outputs": [
        {
          "output_type": "execute_result",
          "data": {
            "text/plain": [
              "<QasmSimulator('qasm_simulator') from AerProvider()>"
            ]
          },
          "metadata": {
            "tags": []
          },
          "execution_count": 23
        }
      ]
    },
    {
      "cell_type": "code",
      "metadata": {
        "colab_type": "code",
        "id": "f-5STzregJBz",
        "papermill": {
          "duration": 12266.09723,
          "end_time": "2020-03-12T07:55:17.824722",
          "exception": false,
          "start_time": "2020-03-12T04:30:51.727492",
          "status": "completed"
        },
        "scrolled": true,
        "tags": [],
        "trusted": false,
        "colab": {
          "base_uri": "https://localhost:8080/",
          "height": 34
        },
        "outputId": "b6a981f9-104d-4ea3-bcbd-3f4bcba7873f"
      },
      "source": [
        "# run quantum algorithm with shots\n",
        "seed = 10598\n",
        "\n",
        "spsa = SPSA(max_trials=30) #VGG 300\n",
        "ry = RY(qubitOp.num_qubits, depth=5, entanglement='linear')\n",
        "vqe = VQE(qubitOp, ry, spsa)\n",
        "\n",
        "#backend = provider.get_backend('ibmq_16_melbourne')#'ibmq_16_melbourne')#'ibmq_essex' # ibmq_london\n",
        "#backend = provider.get_backend('ibmq_qasm_simulator')\n",
        "quantum_instance = QuantumInstance(backend, shots=1024, seed_simulator=seed, seed_transpiler=seed)\n",
        "\n",
        "print(\"submiting for results using:\",backend)\n",
        "result = vqe.run(quantum_instance)\n"
      ],
      "execution_count": 24,
      "outputs": [
        {
          "output_type": "stream",
          "text": [
            "submiting for results using: qasm_simulator\n"
          ],
          "name": "stdout"
        }
      ]
    },
    {
      "cell_type": "code",
      "metadata": {
        "colab_type": "code",
        "id": "3Rt2smFtgJB2",
        "papermill": {
          "duration": 2.922226,
          "end_time": "2020-03-12T07:55:20.921701",
          "exception": false,
          "start_time": "2020-03-12T07:55:17.999475",
          "status": "completed"
        },
        "tags": [],
        "trusted": false,
        "colab": {
          "base_uri": "https://localhost:8080/",
          "height": 350
        },
        "outputId": "a0f0a111-0568-4345-ae33-e96866e430f1"
      },
      "source": [
        "#VGG# x = max_cut.sample_most_likely(result['eigvecs'][0])\n",
        "x = sample_most_likely(result['eigvecs'][0])\n",
        "\n",
        "print(backend)\n",
        "print('energy:', result['energy'])\n",
        "print('time:', result['eval_time'])\n",
        "print('max-cut objective:', result['energy'] + offset)\n",
        "print('solution:', max_cut.get_graph_solution(x))\n",
        "print('solution objective:', max_cut.max_cut_value(x, w))\n",
        "plot_histogram(result['eigvecs'][0])\n",
        "\n",
        "colors = ['r' if max_cut.get_graph_solution(x)[i] == 0 else 'b' for i in range(n)]\n",
        "nx.draw_networkx(G, node_color=colors, node_size=600, alpha = .8, pos=pos)"
      ],
      "execution_count": 25,
      "outputs": [
        {
          "output_type": "stream",
          "text": [
            "qasm_simulator\n",
            "energy: -0.24100796442908784\n",
            "time: 1.4028325080871582\n",
            "max-cut objective: -0.9291024099597471\n",
            "solution: [0 1 0 1]\n",
            "solution objective: 0.8701817401191344\n"
          ],
          "name": "stdout"
        },
        {
          "output_type": "display_data",
          "data": {
            "image/png": "[encoded data removed]",
            "text/plain": [
              "<Figure size 432x288 with 1 Axes>"
            ]
          },
          "metadata": {
            "tags": []
          }
        }
      ]
    },
    {
      "cell_type": "markdown",
      "metadata": {
        "colab_type": "text",
        "id": "B-s4-BJTkauc",
        "papermill": {
          "duration": 0.114454,
          "end_time": "2020-03-12T07:55:21.151502",
          "exception": false,
          "start_time": "2020-03-12T07:55:21.037048",
          "status": "completed"
        },
        "tags": []
      },
      "source": [
        "\n",
        "\n",
        "# **Acknowlegments**\n"
      ]
    },
    {
      "cell_type": "code",
      "metadata": {
        "id": "mVna1OYNJUA6",
        "colab_type": "code",
        "colab": {
          "base_uri": "https://localhost:8080/",
          "height": 547
        },
        "outputId": "2543c5fc-17da-4fd8-818a-00abe3437ee1"
      },
      "source": [
        "import qiskit.tools.jupyter\n",
        "%qiskit_version_table\n",
        "%qiskit_copyright"
      ],
      "execution_count": 26,
      "outputs": [
        {
          "output_type": "display_data",
          "data": {
            "text/html": [
              "<h3>Version Information</h3><table><tr><th>Qiskit Software</th><th>Version</th></tr><tr><td>Qiskit</td><td>0.16.0</td></tr><tr><td>Terra</td><td>0.12.0</td></tr><tr><td>Aer</td><td>0.4.0</td></tr><tr><td>Ignis</td><td>0.2.0</td></tr><tr><td>Aqua</td><td>0.6.4</td></tr><tr><td>IBM Q Provider</td><td>0.5.0</td></tr><tr><th>System information</th></tr><tr><td>Python</td><td>3.6.9 (default, Apr 18 2020, 01:56:04) \n",
              "[GCC 8.4.0]</td></tr><tr><td>OS</td><td>Linux</td></tr><tr><td>CPUs</td><td>1</td></tr><tr><td>Memory (Gb)</td><td>12.715869903564453</td></tr><tr><td colspan='2'>Fri Jun 26 02:18:59 2020 UTC</td></tr></table>"
            ],
            "text/plain": [
              "<IPython.core.display.HTML object>"
            ]
          },
          "metadata": {
            "tags": []
          }
        },
        {
          "output_type": "display_data",
          "data": {
            "text/html": [
              "<div style='width: 100%; background-color:#d5d9e0;padding-left: 10px; padding-bottom: 10px; padding-right: 10px; padding-top: 5px'><h3>This code is a part of Qiskit</h3><p>&copy; Copyright IBM 2017, 2020.</p><p>This code is licensed under the Apache License, Version 2.0. You may<br>obtain a copy of this license in the LICENSE.txt file in the root directory<br> of this source tree or at http://www.apache.org/licenses/LICENSE-2.0.<p>Any modifications or derivative works of this code must retain this<br>copyright notice, and modified files need to carry a notice indicating<br>that they have been altered from the originals.</p></div>"
            ],
            "text/plain": [
              "<IPython.core.display.HTML object>"
            ]
          },
          "metadata": {
            "tags": []
          }
        }
      ]
    },
    {
      "cell_type": "code",
      "metadata": {
        "colab_type": "code",
        "id": "5bI3CphPgJB5",
        "papermill": {
          "duration": 0.297616,
          "end_time": "2020-03-12T07:55:21.640494",
          "exception": false,
          "start_time": "2020-03-12T07:55:21.342878",
          "status": "completed"
        },
        "tags": [],
        "trusted": false,
        "colab": {
          "base_uri": "https://localhost:8080/",
          "height": 547
        },
        "outputId": "66b88194-f780-40f5-cf0b-2a538ef825f4"
      },
      "source": [
        "import qiskit.tools.jupyter\n",
        "%qiskit_version_table\n",
        "%qiskit_copyright"
      ],
      "execution_count": 27,
      "outputs": [
        {
          "output_type": "display_data",
          "data": {
            "text/html": [
              "<h3>Version Information</h3><table><tr><th>Qiskit Software</th><th>Version</th></tr><tr><td>Qiskit</td><td>0.16.0</td></tr><tr><td>Terra</td><td>0.12.0</td></tr><tr><td>Aer</td><td>0.4.0</td></tr><tr><td>Ignis</td><td>0.2.0</td></tr><tr><td>Aqua</td><td>0.6.4</td></tr><tr><td>IBM Q Provider</td><td>0.5.0</td></tr><tr><th>System information</th></tr><tr><td>Python</td><td>3.6.9 (default, Apr 18 2020, 01:56:04) \n",
              "[GCC 8.4.0]</td></tr><tr><td>OS</td><td>Linux</td></tr><tr><td>CPUs</td><td>1</td></tr><tr><td>Memory (Gb)</td><td>12.715869903564453</td></tr><tr><td colspan='2'>Fri Jun 26 02:19:00 2020 UTC</td></tr></table>"
            ],
            "text/plain": [
              "<IPython.core.display.HTML object>"
            ]
          },
          "metadata": {
            "tags": []
          }
        },
        {
          "output_type": "display_data",
          "data": {
            "text/html": [
              "<div style='width: 100%; background-color:#d5d9e0;padding-left: 10px; padding-bottom: 10px; padding-right: 10px; padding-top: 5px'><h3>This code is a part of Qiskit</h3><p>&copy; Copyright IBM 2017, 2020.</p><p>This code is licensed under the Apache License, Version 2.0. You may<br>obtain a copy of this license in the LICENSE.txt file in the root directory<br> of this source tree or at http://www.apache.org/licenses/LICENSE-2.0.<p>Any modifications or derivative works of this code must retain this<br>copyright notice, and modified files need to carry a notice indicating<br>that they have been altered from the originals.</p></div>"
            ],
            "text/plain": [
              "<IPython.core.display.HTML object>"
            ]
          },
          "metadata": {
            "tags": []
          }
        }
      ]
    }
  ]
}
